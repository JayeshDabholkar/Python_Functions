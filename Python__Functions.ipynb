{
  "nbformat": 4,
  "nbformat_minor": 0,
  "metadata": {
    "colab": {
      "provenance": [],
      "authorship_tag": "ABX9TyNAmfQ9hgetZta/YtwhzzRZ",
      "include_colab_link": true
    },
    "kernelspec": {
      "name": "python3",
      "display_name": "Python 3"
    },
    "language_info": {
      "name": "python"
    }
  },
  "cells": [
    {
      "cell_type": "markdown",
      "metadata": {
        "id": "view-in-github",
        "colab_type": "text"
      },
      "source": [
        "<a href=\"https://colab.research.google.com/github/JayeshDabholkar/Python_Functions/blob/main/Python__Functions.ipynb\" target=\"_parent\"><img src=\"https://colab.research.google.com/assets/colab-badge.svg\" alt=\"Open In Colab\"/></a>"
      ]
    },
    {
      "cell_type": "code",
      "execution_count": 2,
      "metadata": {
        "id": "WzvFy0ZYAYDf"
      },
      "outputs": [],
      "source": [
        "#Make_Tea\n",
        "def Make_Tea() :\n",
        "  print(\"Boil some milk\")\n",
        "  print(\"Add sugar and tea leaves\")\n",
        "  print(\"Add some milk\")\n",
        "  print(\"Heat for a few mins\")"
      ]
    },
    {
      "cell_type": "code",
      "source": [
        "Make_Tea()"
      ],
      "metadata": {
        "colab": {
          "base_uri": "https://localhost:8080/"
        },
        "id": "InVVfngZBpOF",
        "outputId": "4e0835e4-29a9-4f61-c807-d93568d266ff"
      },
      "execution_count": 3,
      "outputs": [
        {
          "output_type": "stream",
          "name": "stdout",
          "text": [
            "Boil some milk\n",
            "Add sugar and tea leaves\n",
            "Add some milk\n",
            "Heat for a few mins\n"
          ]
        }
      ]
    },
    {
      "cell_type": "code",
      "source": [
        "def sum() :\n",
        "  x = int(input())\n",
        "  y = int(input())\n",
        "  print(x+y)\n",
        "\n",
        "sum()"
      ],
      "metadata": {
        "colab": {
          "base_uri": "https://localhost:8080/"
        },
        "id": "OsPbSmuVBzRa",
        "outputId": "f120557e-2215-4524-dda6-c5b445a1d0fc"
      },
      "execution_count": 5,
      "outputs": [
        {
          "output_type": "stream",
          "name": "stdout",
          "text": [
            "70\n",
            "30\n",
            "100\n"
          ]
        }
      ]
    },
    {
      "cell_type": "code",
      "source": [
        "def voldy(horcrux1, horcrux2, horcrux3, horcrux4):\n",
        "    print(horcrux3)\n",
        "    print(horcrux1)\n",
        "    print(horcrux4)\n",
        "    print(horcrux2)\n",
        "\n",
        "voldy(\"Hufflepuff's Cup\", \"Harry Potter\", \"Tom Riddle's Diary\", \"Ravenclaw's Diadem\")"
      ],
      "metadata": {
        "colab": {
          "base_uri": "https://localhost:8080/"
        },
        "id": "i75XUSakCucz",
        "outputId": "78c49bec-2af7-4551-e4de-a2e6f830835a"
      },
      "execution_count": 6,
      "outputs": [
        {
          "output_type": "stream",
          "name": "stdout",
          "text": [
            "Tom Riddle's Diary\n",
            "Hufflepuff's Cup\n",
            "Ravenclaw's Diadem\n",
            "Harry Potter\n"
          ]
        }
      ]
    },
    {
      "cell_type": "code",
      "source": [
        "# Write a function which takes one number as argument and prints its square.\n",
        "def square(x) :\n",
        "  print(x**2)\n",
        "\n",
        "x = int(input())\n",
        "square(x)"
      ],
      "metadata": {
        "colab": {
          "base_uri": "https://localhost:8080/"
        },
        "id": "rt_cqo09C-7X",
        "outputId": "26352907-0352-4771-b753-26915290f65d"
      },
      "execution_count": 7,
      "outputs": [
        {
          "output_type": "stream",
          "name": "stdout",
          "text": [
            "22\n",
            "484\n"
          ]
        }
      ]
    },
    {
      "cell_type": "code",
      "source": [
        "def square(x) :\n",
        "  return x**2\n",
        "\n",
        "def pythagoras(x, y) :\n",
        "  return square(x)+square(y)\n",
        "\n",
        "sum = pythagoras(3, 4)\n",
        "print(sum)"
      ],
      "metadata": {
        "colab": {
          "base_uri": "https://localhost:8080/"
        },
        "id": "zlNyQXiMDReo",
        "outputId": "aa60e4ea-4881-4d85-960b-780975a53292"
      },
      "execution_count": 8,
      "outputs": [
        {
          "output_type": "stream",
          "name": "stdout",
          "text": [
            "25\n"
          ]
        }
      ]
    },
    {
      "cell_type": "code",
      "source": [
        "a = 10\n",
        "\n",
        "def calculator(number):\n",
        "    print(number * 10)\n",
        "\n",
        "calculator(a)\n",
        "print(a)\n",
        "     "
      ],
      "metadata": {
        "colab": {
          "base_uri": "https://localhost:8080/"
        },
        "id": "IfX6nlFRIJa4",
        "outputId": "4af5ffb9-d525-4245-9199-60fdf2f66f6d"
      },
      "execution_count": 9,
      "outputs": [
        {
          "output_type": "stream",
          "name": "stdout",
          "text": [
            "100\n",
            "10\n"
          ]
        }
      ]
    },
    {
      "cell_type": "code",
      "source": [
        "def power(number,exponent):\n",
        "    return number**exponent\n",
        "\n",
        "print(power(3, 2))"
      ],
      "metadata": {
        "colab": {
          "base_uri": "https://localhost:8080/"
        },
        "id": "QkgeTWoNIQab",
        "outputId": "cc3d6ae3-275c-4371-d5f4-8a68b5c44b11"
      },
      "execution_count": 10,
      "outputs": [
        {
          "output_type": "stream",
          "name": "stdout",
          "text": [
            "9\n"
          ]
        }
      ]
    },
    {
      "cell_type": "code",
      "source": [
        "# Keyword argument\n",
        "\n",
        "def introduce_family(me, father, mother, sibling):\n",
        "  print(\"Me = \", me)\n",
        "  print(\"Father =\", father)\n",
        "  print(\"Mother =\", mother)\n",
        "  print(\"Sibling =\", sibling)\n",
        "introduce_family(\"Arthur\", \"Ginny\", \"Molly\", \"Ron\")"
      ],
      "metadata": {
        "colab": {
          "base_uri": "https://localhost:8080/"
        },
        "id": "hHgZBWp0Ianj",
        "outputId": "dc9ad8e4-9b5b-4f38-f506-d78e9ac4c26b"
      },
      "execution_count": 1,
      "outputs": [
        {
          "output_type": "stream",
          "name": "stdout",
          "text": [
            "Me =  Arthur\n",
            "Father = Ginny\n",
            "Mother = Molly\n",
            "Sibling = Ron\n"
          ]
        }
      ]
    },
    {
      "cell_type": "code",
      "source": [
        "introduce_family(father=\"Arthur\", sibling=\"Ginny\", mother=\"Molly\", me=\"Ron\")"
      ],
      "metadata": {
        "colab": {
          "base_uri": "https://localhost:8080/"
        },
        "id": "koDZptXo8IU-",
        "outputId": "ef7fe32d-aeac-4c09-daba-2e160479f1a6"
      },
      "execution_count": 2,
      "outputs": [
        {
          "output_type": "stream",
          "name": "stdout",
          "text": [
            "Me =  Ron\n",
            "Father = Arthur\n",
            "Mother = Molly\n",
            "Sibling = Ginny\n"
          ]
        }
      ]
    },
    {
      "cell_type": "code",
      "source": [
        "# Date Printing\n",
        "\n",
        "# Create a date printing function which \n",
        "# takes in 4 arguments : date, month, year, style\n",
        "\n",
        "# Style 0 -> d/m/y\n",
        "# Style 1 -> m/d/y\n",
        "# Default style is 0\n",
        "\n",
        "def print_date(date, month, year, style=0) :\n",
        "    if style == 0 :\n",
        "      print(date, month, year, sep='/')\n",
        "    elif style == 1 :\n",
        "      print(month, date, year, sep='/')\n",
        "    else :\n",
        "      print(\"Incorrect style\")"
      ],
      "metadata": {
        "id": "jmARa0To9Lii"
      },
      "execution_count": 3,
      "outputs": []
    },
    {
      "cell_type": "code",
      "source": [
        "print_date(27, 6, 1999)"
      ],
      "metadata": {
        "colab": {
          "base_uri": "https://localhost:8080/"
        },
        "id": "0eQVkm-X9RBc",
        "outputId": "ade7af7f-03cc-4041-87e2-c2757cd91974"
      },
      "execution_count": 5,
      "outputs": [
        {
          "output_type": "stream",
          "name": "stdout",
          "text": [
            "27/6/1999\n"
          ]
        }
      ]
    },
    {
      "cell_type": "code",
      "source": [
        "print_date(\"27\",\"06\", \"1999\")"
      ],
      "metadata": {
        "colab": {
          "base_uri": "https://localhost:8080/"
        },
        "id": "-oqLLnUD9bWT",
        "outputId": "e83a1c87-e81b-4ca5-eb90-66988797e0ec"
      },
      "execution_count": 6,
      "outputs": [
        {
          "output_type": "stream",
          "name": "stdout",
          "text": [
            "27/06/1999\n"
          ]
        }
      ]
    },
    {
      "cell_type": "code",
      "source": [
        "print_date(7, 6, 1999, 1)"
      ],
      "metadata": {
        "colab": {
          "base_uri": "https://localhost:8080/"
        },
        "id": "enbg_fjv9hp9",
        "outputId": "96241a8e-d648-45a7-c2cd-867ca05be3c9"
      },
      "execution_count": 8,
      "outputs": [
        {
          "output_type": "stream",
          "name": "stdout",
          "text": [
            "6/7/1999\n"
          ]
        }
      ]
    },
    {
      "cell_type": "code",
      "source": [
        "print_date(27, 6, 1999, 3)"
      ],
      "metadata": {
        "colab": {
          "base_uri": "https://localhost:8080/"
        },
        "id": "j6RnDUpF9nSL",
        "outputId": "78560e35-1c9d-4fa6-e52c-e2fa424ea6f5"
      },
      "execution_count": 9,
      "outputs": [
        {
          "output_type": "stream",
          "name": "stdout",
          "text": [
            "Incorrect style\n"
          ]
        }
      ]
    },
    {
      "cell_type": "code",
      "source": [
        "# scope of variable - region within which a variable can be used\n",
        "\n",
        "# global variable\n",
        "chief_of_house = \"mother\"\n",
        "\n",
        "def change_chief():\n",
        "    # local variable\n",
        "    chief_of_house = \"father\"\n",
        "    print(\"Inside the function -\", chief_of_house)\n",
        "    \n",
        "    \n",
        "change_chief()\n",
        "print(\"Outside the function -\", chief_of_house)"
      ],
      "metadata": {
        "colab": {
          "base_uri": "https://localhost:8080/"
        },
        "id": "zrlndPxy90u3",
        "outputId": "9de3e2e2-83c4-4eb8-f546-2356e421386e"
      },
      "execution_count": 10,
      "outputs": [
        {
          "output_type": "stream",
          "name": "stdout",
          "text": [
            "Inside the function - father\n",
            "Outside the function - mother\n"
          ]
        }
      ]
    },
    {
      "cell_type": "code",
      "source": [
        "# global variable\n",
        "chief_of_house = \"mother\"\n",
        "\n",
        "def change_chief():\n",
        "    global chief_of_house\n",
        "    chief_of_house = \"father\"\n",
        "    print(\"Inside the function -\", chief_of_house)\n",
        "    \n",
        "    \n",
        "change_chief()\n",
        "print(\"Outside the function -\", chief_of_house)"
      ],
      "metadata": {
        "colab": {
          "base_uri": "https://localhost:8080/"
        },
        "id": "daLSUkLX92q7",
        "outputId": "dce912cb-be55-43e1-e21f-cbfeac453dbf"
      },
      "execution_count": 13,
      "outputs": [
        {
          "output_type": "stream",
          "name": "stdout",
          "text": [
            "Inside the function - father\n",
            "Outside the function - father\n"
          ]
        }
      ]
    }
  ]
}